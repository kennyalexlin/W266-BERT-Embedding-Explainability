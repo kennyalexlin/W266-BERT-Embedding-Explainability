{
  "cells": [
    {
      "cell_type": "code",
      "execution_count": 19,
      "metadata": {
        "id": "jVxh_6-SssL3"
      },
      "outputs": [],
      "source": [
        "import pandas as pd\n",
        "import numpy as np\n",
        "import urllib.request, json, os\n",
        "\n",
        "from transformers import (\n",
        "    BertConfig,\n",
        "    TFBertForMaskedLM,\n",
        "    DataCollatorForLanguageModeling,\n",
        "    Trainer,\n",
        "    TrainingArguments,\n",
        "    PreTrainedTokenizerFast,\n",
        "    AdamWeightDecay\n",
        ")\n",
        "\n",
        "from tokenizers import (\n",
        "    Tokenizer,\n",
        "    models,\n",
        "    normalizers,\n",
        "    pre_tokenizers,\n",
        "    trainers,\n",
        "    processors,\n",
        "    decoders\n",
        ")\n",
        "\n",
        "from datasets import IterableDataset, load_dataset, load_from_disk"
      ]
    },
    {
      "cell_type": "code",
      "source": [
        "try:\n",
        "    from google.colab import drive\n",
        "    import sys\n",
        "\n",
        "    drive.mount('/content/gdrive/')\n",
        "    sys.path.append('/content/gdrive/My Drive/Colab Notebooks')\n",
        "except:\n",
        "    pass\n",
        "\n",
        "from utils import (\n",
        "    TweetIterator\n",
        ")"
      ],
      "metadata": {
        "colab": {
          "base_uri": "https://localhost:8080/"
        },
        "id": "IDFUrpqVNUSd",
        "outputId": "107ac10e-c4f2-456b-87b1-0ddd917c3cec"
      },
      "execution_count": 40,
      "outputs": [
        {
          "output_type": "stream",
          "name": "stdout",
          "text": [
            "Drive already mounted at /content/gdrive/; to attempt to forcibly remount, call drive.mount(\"/content/gdrive/\", force_remount=True).\n"
          ]
        }
      ]
    },
    {
      "cell_type": "markdown",
      "metadata": {
        "id": "zjCD-Sp0ssL6"
      },
      "source": [
        "### Config"
      ]
    },
    {
      "cell_type": "code",
      "execution_count": 41,
      "metadata": {
        "id": "4SHXwYd2ssL6"
      },
      "outputs": [],
      "source": [
        "VOCAB_SIZE = 30522\n",
        "DATA_DIR = '/content/gdrive/My Drive/Colab Notebooks' # data\n",
        "TWEETS_PATH = 'birthyear.1990_2009.lowercase'         # name of tweets file\n",
        "TEST_PCT = 0.1 # defines pct of total dataset to use for validation, 1 - TEST_PCT = pct of dataset to use for training\n",
        "TRAIN_BATCH_SIZE = 64\n",
        "TEST_BATCH_SIZE = 16\n",
        "\n",
        "full_tweets_path = os.path.join(DATA_DIR, TWEETS_PATH)\n",
        "dataset_path = '.'.join(TWEETS_PATH.split('.')[:-1]) + '.hf'\n",
        "full_dataset_path = os.path.join(DATA_DIR, dataset_path)\n",
        "tokenizer_path = TWEETS_PATH + '_tokenizer'\n",
        "full_tokenizer_path = os.path.join(DATA_DIR, tokenizer_path)"
      ]
    },
    {
      "cell_type": "code",
      "source": [
        "num_tweets = 0\n",
        "with open(full_tweets_path, 'r') as file:\n",
        "    for line in file:\n",
        "        num_tweets += 1"
      ],
      "metadata": {
        "id": "VMYj9IsZw74Q"
      },
      "execution_count": 22,
      "outputs": []
    },
    {
      "cell_type": "markdown",
      "metadata": {
        "id": "rtXVtr-PssL7"
      },
      "source": [
        "### Create Untrained BERT Model"
      ]
    },
    {
      "cell_type": "markdown",
      "metadata": {
        "id": "EYytzZ2HssL7"
      },
      "source": [
        "### Create and Train BERT Tokenizer\n",
        "https://huggingface.co/learn/nlp-course/en/chapter6/8#building-a-wordpiece-tokenizer-from-scratch"
      ]
    },
    {
      "cell_type": "code",
      "source": [
        "if tokenizer_path in os.listdir(os.path.join(DATA_DIR, os.path.curdir)):\n",
        "    print(f\"You've saved this tokenizer before at {full_tokenizer_path}.\")\n",
        "    print(\"Loading from disk...\")\n",
        "\n",
        "    wrapped_tokenizer = PreTrainedTokenizerFast.from_pretrained(os.path.join(DATA_DIR, tokenizer_path))\n",
        "    print(\"Tokenizer loaded!\")\n",
        "else:\n",
        "    print(\"You've never saved this dataset before. Creating a tokenizer from scratch...\")\n",
        "    # create a BERT tokenizer\n",
        "    tokenizer = Tokenizer(model = models.WordPiece(unk_token = '[UNK]'))\n",
        "    normalizer = normalizers.Sequence([\n",
        "        normalizers.NFD(),            # Normalize characters to Unicode NFD\n",
        "        # normalizers.Lowercase(),      # Set all characters to lowercase - not necessary, as tweets are already lowercase\n",
        "        normalizers.StripAccents()    # Remove all accents from characters\n",
        "    ])\n",
        "    pre_tokenizer = pre_tokenizers.Whitespace()\n",
        "\n",
        "    tokenizer.normalizer = normalizer\n",
        "    tokenizer.pre_tokenizer = pre_tokenizer\n",
        "\n",
        "    # create a WordPiece trainer\n",
        "    special_tokens = [\"[UNK]\", \"[PAD]\", \"[CLS]\", \"[SEP]\", \"[MASK]\"]\n",
        "    trainer = trainers.WordPieceTrainer(\n",
        "        vocab_size = VOCAB_SIZE,\n",
        "        special_tokens = special_tokens\n",
        "    )\n",
        "    print(f\"Creating an iterator from tweets at {full_tweets_path}...\")\n",
        "    # create an iterator out of our tweets since they won't fit on disk\n",
        "    tweets = TweetIterator(full_tweets_path)\n",
        "    print(f\"Training your tokenizer...\")\n",
        "    tokenizer.train_from_iterator(tweets, trainer=trainer, length=num_tweets)\n",
        "\n",
        "    post_processor = processors.TemplateProcessing(\n",
        "        single=f\"[CLS]:0 $A:0 [SEP]:0\",\n",
        "        pair=f\"[CLS]:0 $A:0 [SEP]:0 $B:1 [SEP]:1\",\n",
        "        special_tokens=[(\"[CLS]\", tokenizer.token_to_id('[CLS]')), (\"[SEP]\", tokenizer.token_to_id('[SEP]'))]\n",
        "    )\n",
        "    tokenizer.post_processor = post_processor\n",
        "\n",
        "    decoder = decoders.WordPiece(prefix=\"##\")\n",
        "    tokenizer.decoder = decoder\n",
        "    # wrap our tokenizer in a PreTrainedTokenizerFast object\n",
        "    # so we can use it with a DataCollator and Trainer\n",
        "    wrapped_tokenizer = PreTrainedTokenizerFast(\n",
        "        tokenizer_object=tokenizer,\n",
        "        # tokenizer_file=\"tokenizer.json\", # You can load from the tokenizer file, alternatively\n",
        "        unk_token=\"[UNK]\",\n",
        "        pad_token=\"[PAD]\",\n",
        "        cls_token=\"[CLS]\",\n",
        "        sep_token=\"[SEP]\",\n",
        "        mask_token=\"[MASK]\",\n",
        "    )\n",
        "    print('Saving tokenizer to disk...')\n",
        "    wrapped_tokenizer.save_pretrained(os.path.join(DATA_DIR, tokenizer_path))\n",
        "    print(f'Tokenizer saved at {full_tokenizer_path}')"
      ],
      "metadata": {
        "colab": {
          "base_uri": "https://localhost:8080/"
        },
        "id": "eT14S5S0I0nD",
        "outputId": "fc74a141-e106-4511-fdae-41978a0470d3"
      },
      "execution_count": 32,
      "outputs": [
        {
          "output_type": "stream",
          "name": "stdout",
          "text": [
            "You've saved this tokenizer before at /content/gdrive/My Drive/Colab Notebooks/birthyear.1990_2009.lowercase_tokenizer.\n",
            "Loading from disk...\n",
            "Tokenizer loaded!\n"
          ]
        }
      ]
    },
    {
      "cell_type": "markdown",
      "source": [],
      "metadata": {
        "id": "5j5ZFN4mI67D"
      }
    },
    {
      "cell_type": "markdown",
      "metadata": {
        "id": "m_n_JY-ZssL8"
      },
      "source": [
        "## Create Train and Test Datasets from Iterator"
      ]
    },
    {
      "cell_type": "code",
      "execution_count": 5,
      "metadata": {
        "id": "EXnla-ZkssL9"
      },
      "outputs": [],
      "source": [
        "data_collator = DataCollatorForLanguageModeling(\n",
        "    tokenizer = wrapped_tokenizer,\n",
        "    mlm_probability = 0.15, # probability that a token is masked\n",
        "    return_tensors=\"tf\"\n",
        ")"
      ]
    },
    {
      "cell_type": "code",
      "execution_count": 35,
      "metadata": {
        "colab": {
          "base_uri": "https://localhost:8080/",
          "height": 204,
          "referenced_widgets": [
            "44749316947c482b8e74ea60cf75ec59",
            "dc2202605c8a415fbf79869ec19a87e5",
            "cf6fdf2a9da4426b928974276a762ed0",
            "6787318f3b224c829a53de97a60f55b5",
            "a6acc84434b542b5a83bee141c1433e3",
            "cef3857953334df08290ad9caae95505",
            "05b5f5686e654c5e89d4bb1055b54acc",
            "b1a522113b454624ac0d41db1216e599",
            "37472d52e08042d4886268fd16d97c48",
            "f501e49151934b528055f725b799d5ff",
            "ce771d37e9964547942ea16e6e9d6929",
            "a356a1d586ea41eb8bbb6f910aacb3a8",
            "d6dcf8d9ce254bbe97e68d8029d51df9",
            "9148faa89984485cae51b6783e6e8002",
            "6d72c3302d484bd2bff0c411c9558a5a",
            "6af9f8a7b90841ca9072d3cb85498078",
            "9bc4186ffb27406db9eeb22f207750dd",
            "5c6395957fe041a7893ffda944b42355",
            "f1fe48c320f64b869fe54cd68b49fe11",
            "3e8e91de94544261ab5271e4a5fc3b9c",
            "29721e92c6e549ceb10e0d6f7668c641",
            "480a1b3f6a334d2a957a8c7a3063032f",
            "67ab83c33c374709b28be3307d300c99",
            "e73293e0ed35465da8dfcc654d815ca3",
            "8a080e95df70494fa4e1f1386cfff683",
            "e00dbe0842304800b7b5935cc4e6ec32",
            "ac4611ada0e340be808a0953725518aa",
            "142f0fbbd40b4759b72a6f4ff9346c61",
            "f3fc8835f34c4552b360c7622ec796fa",
            "97bd3ea5d07d4f64b949c86581c7af07",
            "ec61387f1c8f471ba98951fd74ff92e9",
            "e0934f9ace1c4287b338224010f1f342",
            "f83747ab40cc408aa9437a6065f10ec2"
          ]
        },
        "id": "ZQtzWexissL9",
        "outputId": "b9b7e776-56c2-47d4-f5b9-48dd7aab122e"
      },
      "outputs": [
        {
          "output_type": "stream",
          "name": "stdout",
          "text": [
            "You've never saved this dataset before. Loading dataset from /content/gdrive/My Drive/Colab Notebooks/birthyear.1990_2009.lowercase...\n"
          ]
        },
        {
          "output_type": "display_data",
          "data": {
            "text/plain": [
              "Generating train split: 0 examples [00:00, ? examples/s]"
            ],
            "application/vnd.jupyter.widget-view+json": {
              "version_major": 2,
              "version_minor": 0,
              "model_id": "44749316947c482b8e74ea60cf75ec59"
            }
          },
          "metadata": {}
        },
        {
          "output_type": "stream",
          "name": "stdout",
          "text": [
            "Tokenizing dataset...\n"
          ]
        },
        {
          "output_type": "display_data",
          "data": {
            "text/plain": [
              "Map:   0%|          | 0/5447916 [00:00<?, ? examples/s]"
            ],
            "application/vnd.jupyter.widget-view+json": {
              "version_major": 2,
              "version_minor": 0,
              "model_id": "a356a1d586ea41eb8bbb6f910aacb3a8"
            }
          },
          "metadata": {}
        },
        {
          "output_type": "stream",
          "name": "stdout",
          "text": [
            "Saving dataset to disk...\n"
          ]
        },
        {
          "output_type": "display_data",
          "data": {
            "text/plain": [
              "Saving the dataset (0/2 shards):   0%|          | 0/5447916 [00:00<?, ? examples/s]"
            ],
            "application/vnd.jupyter.widget-view+json": {
              "version_major": 2,
              "version_minor": 0,
              "model_id": "67ab83c33c374709b28be3307d300c99"
            }
          },
          "metadata": {}
        },
        {
          "output_type": "stream",
          "name": "stdout",
          "text": [
            "Dataset saved at /content/gdrive/My Drive/Colab Notebooks/birthyear.1990_2009.hf\n"
          ]
        }
      ],
      "source": [
        "if dataset_path in os.listdir(os.path.join(DATA_DIR, os.path.curdir)):\n",
        "    print(f\"You've saved this dataset before at {full_dataset_path}.\")\n",
        "    print(\"Loading from disk...\")\n",
        "    tweets_ds = load_from_disk(full_dataset_path)\n",
        "    print(\"Dataset loaded!\")\n",
        "else:\n",
        "    print(f\"You've never saved this dataset before. Loading dataset from {full_tweets_path}...\")\n",
        "    tweets_ds = load_dataset(\n",
        "        path = \"text\",\n",
        "        data_files = full_tweets_path,\n",
        "        split = f\"train\", # train on everything\n",
        "    )\n",
        "    print('Tokenizing dataset...')\n",
        "    tweets_ds = tweets_ds.map(\n",
        "        function = lambda x: wrapped_tokenizer(x['text']),\n",
        "        batched = True\n",
        "    )\n",
        "    print('Saving dataset to disk...')\n",
        "    tweets_ds.save_to_disk(full_dataset_path)\n",
        "    print(f'Dataset saved at {full_dataset_path}')"
      ]
    },
    {
      "cell_type": "code",
      "execution_count": 37,
      "metadata": {
        "id": "62iMe0NfssL9"
      },
      "outputs": [],
      "source": [
        "# split your dataset into train and val\n",
        "tweets_ds_split = tweets_ds.train_test_split(test_size=TEST_PCT)"
      ]
    },
    {
      "cell_type": "markdown",
      "source": [
        "## Initialize Untrained BERT Model"
      ],
      "metadata": {
        "id": "AKkJVXXlLgta"
      }
    },
    {
      "cell_type": "code",
      "source": [
        "config = BertConfig(\n",
        "    vocab_size = VOCAB_SIZE\n",
        ")\n",
        "bert_model = TFBertForMaskedLM(config = config)\n",
        "bert_model.build()\n",
        "bert_model.compile(optimizer = AdamWeightDecay(lr=2e-5, weight_decay_rate=0.01))\n",
        "\n",
        "bert_model.summary()"
      ],
      "metadata": {
        "colab": {
          "base_uri": "https://localhost:8080/"
        },
        "id": "0acWz82Z-7Pc",
        "outputId": "74e5f07f-5554-4f4f-b944-686c8438fa04"
      },
      "execution_count": 38,
      "outputs": [
        {
          "output_type": "stream",
          "name": "stdout",
          "text": [
            "Model: \"tf_bert_for_masked_lm_2\"\n",
            "_________________________________________________________________\n",
            " Layer (type)                Output Shape              Param #   \n",
            "=================================================================\n",
            " bert (TFBertMainLayer)      multiple                  108891648 \n",
            "                                                                 \n",
            " mlm___cls (TFBertMLMHead)   multiple                  24459834  \n",
            "                                                                 \n",
            "=================================================================\n",
            "Total params: 109514298 (417.76 MB)\n",
            "Trainable params: 109514298 (417.76 MB)\n",
            "Non-trainable params: 0 (0.00 Byte)\n",
            "_________________________________________________________________\n"
          ]
        },
        {
          "output_type": "stream",
          "name": "stderr",
          "text": [
            "/usr/local/lib/python3.10/dist-packages/tf_keras/src/optimizers/legacy/adam.py:118: UserWarning: The `lr` argument is deprecated, use `learning_rate` instead.\n",
            "  super().__init__(name, **kwargs)\n"
          ]
        }
      ]
    },
    {
      "cell_type": "markdown",
      "source": [
        "## Prepare Dataset for Training Loop"
      ],
      "metadata": {
        "id": "GPenkUQsLnIL"
      }
    },
    {
      "cell_type": "code",
      "execution_count": 39,
      "metadata": {
        "id": "YWIdVEP8ssL9"
      },
      "outputs": [],
      "source": [
        "tweets_ds_tf_train = bert_model.prepare_tf_dataset(\n",
        "    dataset = tweets_ds_split[\"train\"],\n",
        "    collate_fn = data_collator,\n",
        "    batch_size = TRAIN_BATCH_SIZE,\n",
        "    shuffle=True\n",
        ")\n",
        "\n",
        "tweets_ds_tf_test = bert_model.prepare_tf_dataset(\n",
        "    dataset = tweets_ds_split[\"test\"],\n",
        "    collate_fn = data_collator,\n",
        "    batch_size = TEST_BATCH_SIZE,\n",
        "    shuffle=True\n",
        ")"
      ]
    },
    {
      "cell_type": "code",
      "execution_count": 15,
      "metadata": {
        "colab": {
          "base_uri": "https://localhost:8080/"
        },
        "id": "C5Fya59XssL9",
        "outputId": "0c71e740-1836-4d4b-d4e1-838589299ec2"
      },
      "outputs": [
        {
          "output_type": "stream",
          "name": "stdout",
          "text": [
            "Epoch 1/10\n",
            "3/3 [==============================] - 25s 881ms/step - loss: 7.3861 - val_loss: 7.2405\n",
            "Epoch 2/10\n",
            "3/3 [==============================] - 2s 679ms/step - loss: 7.1698 - val_loss: 7.2200\n",
            "Epoch 3/10\n",
            "3/3 [==============================] - 2s 756ms/step - loss: 7.1886 - val_loss: 7.2838\n",
            "Epoch 4/10\n",
            "3/3 [==============================] - 3s 1s/step - loss: 7.3598 - val_loss: 6.8908\n",
            "Epoch 5/10\n",
            "3/3 [==============================] - 2s 851ms/step - loss: 7.2680 - val_loss: 7.3210\n",
            "Epoch 6/10\n",
            "3/3 [==============================] - 2s 782ms/step - loss: 7.2339 - val_loss: 7.5947\n",
            "Epoch 7/10\n",
            "3/3 [==============================] - 2s 709ms/step - loss: 7.7042 - val_loss: 7.3069\n",
            "Epoch 8/10\n",
            "3/3 [==============================] - 3s 869ms/step - loss: 7.3288 - val_loss: 7.4093\n",
            "Epoch 9/10\n",
            "3/3 [==============================] - 3s 946ms/step - loss: 7.1957 - val_loss: 7.3082\n",
            "Epoch 10/10\n",
            "3/3 [==============================] - 3s 916ms/step - loss: 7.2942 - val_loss: 6.9593\n"
          ]
        },
        {
          "output_type": "execute_result",
          "data": {
            "text/plain": [
              "<tf_keras.src.callbacks.History at 0x790b0578d630>"
            ]
          },
          "metadata": {},
          "execution_count": 15
        }
      ],
      "source": [
        "bert_model.fit(\n",
        "    x = tweets_ds_tf_train,\n",
        "    validation_data = tweets_ds_tf_test,\n",
        "    epochs = 10,\n",
        "    steps_per_epoch = 3,\n",
        "    validation_steps = 1,\n",
        "    verbose = 1\n",
        ")"
      ]
    },
    {
      "cell_type": "code",
      "source": [],
      "metadata": {
        "id": "H4WuI5Pc2vDI"
      },
      "execution_count": null,
      "outputs": []
    }
  ],
  "metadata": {
    "kernelspec": {
      "display_name": "Python 3",
      "name": "python3"
    },
    "language_info": {
      "codemirror_mode": {
        "name": "ipython",
        "version": 3
      },
      "file_extension": ".py",
      "mimetype": "text/x-python",
      "name": "python",
      "nbconvert_exporter": "python",
      "pygments_lexer": "ipython3",
      "version": "3.12.3"
    },
    "colab": {
      "provenance": [],
      "gpuType": "T4"
    },
    "accelerator": "GPU",
    "widgets": {
      "application/vnd.jupyter.widget-state+json": {
        "44749316947c482b8e74ea60cf75ec59": {
          "model_module": "@jupyter-widgets/controls",
          "model_name": "HBoxModel",
          "model_module_version": "1.5.0",
          "state": {
            "_dom_classes": [],
            "_model_module": "@jupyter-widgets/controls",
            "_model_module_version": "1.5.0",
            "_model_name": "HBoxModel",
            "_view_count": null,
            "_view_module": "@jupyter-widgets/controls",
            "_view_module_version": "1.5.0",
            "_view_name": "HBoxView",
            "box_style": "",
            "children": [
              "IPY_MODEL_dc2202605c8a415fbf79869ec19a87e5",
              "IPY_MODEL_cf6fdf2a9da4426b928974276a762ed0",
              "IPY_MODEL_6787318f3b224c829a53de97a60f55b5"
            ],
            "layout": "IPY_MODEL_a6acc84434b542b5a83bee141c1433e3"
          }
        },
        "dc2202605c8a415fbf79869ec19a87e5": {
          "model_module": "@jupyter-widgets/controls",
          "model_name": "HTMLModel",
          "model_module_version": "1.5.0",
          "state": {
            "_dom_classes": [],
            "_model_module": "@jupyter-widgets/controls",
            "_model_module_version": "1.5.0",
            "_model_name": "HTMLModel",
            "_view_count": null,
            "_view_module": "@jupyter-widgets/controls",
            "_view_module_version": "1.5.0",
            "_view_name": "HTMLView",
            "description": "",
            "description_tooltip": null,
            "layout": "IPY_MODEL_cef3857953334df08290ad9caae95505",
            "placeholder": "​",
            "style": "IPY_MODEL_05b5f5686e654c5e89d4bb1055b54acc",
            "value": "Generating train split: "
          }
        },
        "cf6fdf2a9da4426b928974276a762ed0": {
          "model_module": "@jupyter-widgets/controls",
          "model_name": "FloatProgressModel",
          "model_module_version": "1.5.0",
          "state": {
            "_dom_classes": [],
            "_model_module": "@jupyter-widgets/controls",
            "_model_module_version": "1.5.0",
            "_model_name": "FloatProgressModel",
            "_view_count": null,
            "_view_module": "@jupyter-widgets/controls",
            "_view_module_version": "1.5.0",
            "_view_name": "ProgressView",
            "bar_style": "success",
            "description": "",
            "description_tooltip": null,
            "layout": "IPY_MODEL_b1a522113b454624ac0d41db1216e599",
            "max": 1,
            "min": 0,
            "orientation": "horizontal",
            "style": "IPY_MODEL_37472d52e08042d4886268fd16d97c48",
            "value": 1
          }
        },
        "6787318f3b224c829a53de97a60f55b5": {
          "model_module": "@jupyter-widgets/controls",
          "model_name": "HTMLModel",
          "model_module_version": "1.5.0",
          "state": {
            "_dom_classes": [],
            "_model_module": "@jupyter-widgets/controls",
            "_model_module_version": "1.5.0",
            "_model_name": "HTMLModel",
            "_view_count": null,
            "_view_module": "@jupyter-widgets/controls",
            "_view_module_version": "1.5.0",
            "_view_name": "HTMLView",
            "description": "",
            "description_tooltip": null,
            "layout": "IPY_MODEL_f501e49151934b528055f725b799d5ff",
            "placeholder": "​",
            "style": "IPY_MODEL_ce771d37e9964547942ea16e6e9d6929",
            "value": " 5447916/0 [00:14&lt;00:00, 384484.80 examples/s]"
          }
        },
        "a6acc84434b542b5a83bee141c1433e3": {
          "model_module": "@jupyter-widgets/base",
          "model_name": "LayoutModel",
          "model_module_version": "1.2.0",
          "state": {
            "_model_module": "@jupyter-widgets/base",
            "_model_module_version": "1.2.0",
            "_model_name": "LayoutModel",
            "_view_count": null,
            "_view_module": "@jupyter-widgets/base",
            "_view_module_version": "1.2.0",
            "_view_name": "LayoutView",
            "align_content": null,
            "align_items": null,
            "align_self": null,
            "border": null,
            "bottom": null,
            "display": null,
            "flex": null,
            "flex_flow": null,
            "grid_area": null,
            "grid_auto_columns": null,
            "grid_auto_flow": null,
            "grid_auto_rows": null,
            "grid_column": null,
            "grid_gap": null,
            "grid_row": null,
            "grid_template_areas": null,
            "grid_template_columns": null,
            "grid_template_rows": null,
            "height": null,
            "justify_content": null,
            "justify_items": null,
            "left": null,
            "margin": null,
            "max_height": null,
            "max_width": null,
            "min_height": null,
            "min_width": null,
            "object_fit": null,
            "object_position": null,
            "order": null,
            "overflow": null,
            "overflow_x": null,
            "overflow_y": null,
            "padding": null,
            "right": null,
            "top": null,
            "visibility": null,
            "width": null
          }
        },
        "cef3857953334df08290ad9caae95505": {
          "model_module": "@jupyter-widgets/base",
          "model_name": "LayoutModel",
          "model_module_version": "1.2.0",
          "state": {
            "_model_module": "@jupyter-widgets/base",
            "_model_module_version": "1.2.0",
            "_model_name": "LayoutModel",
            "_view_count": null,
            "_view_module": "@jupyter-widgets/base",
            "_view_module_version": "1.2.0",
            "_view_name": "LayoutView",
            "align_content": null,
            "align_items": null,
            "align_self": null,
            "border": null,
            "bottom": null,
            "display": null,
            "flex": null,
            "flex_flow": null,
            "grid_area": null,
            "grid_auto_columns": null,
            "grid_auto_flow": null,
            "grid_auto_rows": null,
            "grid_column": null,
            "grid_gap": null,
            "grid_row": null,
            "grid_template_areas": null,
            "grid_template_columns": null,
            "grid_template_rows": null,
            "height": null,
            "justify_content": null,
            "justify_items": null,
            "left": null,
            "margin": null,
            "max_height": null,
            "max_width": null,
            "min_height": null,
            "min_width": null,
            "object_fit": null,
            "object_position": null,
            "order": null,
            "overflow": null,
            "overflow_x": null,
            "overflow_y": null,
            "padding": null,
            "right": null,
            "top": null,
            "visibility": null,
            "width": null
          }
        },
        "05b5f5686e654c5e89d4bb1055b54acc": {
          "model_module": "@jupyter-widgets/controls",
          "model_name": "DescriptionStyleModel",
          "model_module_version": "1.5.0",
          "state": {
            "_model_module": "@jupyter-widgets/controls",
            "_model_module_version": "1.5.0",
            "_model_name": "DescriptionStyleModel",
            "_view_count": null,
            "_view_module": "@jupyter-widgets/base",
            "_view_module_version": "1.2.0",
            "_view_name": "StyleView",
            "description_width": ""
          }
        },
        "b1a522113b454624ac0d41db1216e599": {
          "model_module": "@jupyter-widgets/base",
          "model_name": "LayoutModel",
          "model_module_version": "1.2.0",
          "state": {
            "_model_module": "@jupyter-widgets/base",
            "_model_module_version": "1.2.0",
            "_model_name": "LayoutModel",
            "_view_count": null,
            "_view_module": "@jupyter-widgets/base",
            "_view_module_version": "1.2.0",
            "_view_name": "LayoutView",
            "align_content": null,
            "align_items": null,
            "align_self": null,
            "border": null,
            "bottom": null,
            "display": null,
            "flex": null,
            "flex_flow": null,
            "grid_area": null,
            "grid_auto_columns": null,
            "grid_auto_flow": null,
            "grid_auto_rows": null,
            "grid_column": null,
            "grid_gap": null,
            "grid_row": null,
            "grid_template_areas": null,
            "grid_template_columns": null,
            "grid_template_rows": null,
            "height": null,
            "justify_content": null,
            "justify_items": null,
            "left": null,
            "margin": null,
            "max_height": null,
            "max_width": null,
            "min_height": null,
            "min_width": null,
            "object_fit": null,
            "object_position": null,
            "order": null,
            "overflow": null,
            "overflow_x": null,
            "overflow_y": null,
            "padding": null,
            "right": null,
            "top": null,
            "visibility": null,
            "width": "20px"
          }
        },
        "37472d52e08042d4886268fd16d97c48": {
          "model_module": "@jupyter-widgets/controls",
          "model_name": "ProgressStyleModel",
          "model_module_version": "1.5.0",
          "state": {
            "_model_module": "@jupyter-widgets/controls",
            "_model_module_version": "1.5.0",
            "_model_name": "ProgressStyleModel",
            "_view_count": null,
            "_view_module": "@jupyter-widgets/base",
            "_view_module_version": "1.2.0",
            "_view_name": "StyleView",
            "bar_color": null,
            "description_width": ""
          }
        },
        "f501e49151934b528055f725b799d5ff": {
          "model_module": "@jupyter-widgets/base",
          "model_name": "LayoutModel",
          "model_module_version": "1.2.0",
          "state": {
            "_model_module": "@jupyter-widgets/base",
            "_model_module_version": "1.2.0",
            "_model_name": "LayoutModel",
            "_view_count": null,
            "_view_module": "@jupyter-widgets/base",
            "_view_module_version": "1.2.0",
            "_view_name": "LayoutView",
            "align_content": null,
            "align_items": null,
            "align_self": null,
            "border": null,
            "bottom": null,
            "display": null,
            "flex": null,
            "flex_flow": null,
            "grid_area": null,
            "grid_auto_columns": null,
            "grid_auto_flow": null,
            "grid_auto_rows": null,
            "grid_column": null,
            "grid_gap": null,
            "grid_row": null,
            "grid_template_areas": null,
            "grid_template_columns": null,
            "grid_template_rows": null,
            "height": null,
            "justify_content": null,
            "justify_items": null,
            "left": null,
            "margin": null,
            "max_height": null,
            "max_width": null,
            "min_height": null,
            "min_width": null,
            "object_fit": null,
            "object_position": null,
            "order": null,
            "overflow": null,
            "overflow_x": null,
            "overflow_y": null,
            "padding": null,
            "right": null,
            "top": null,
            "visibility": null,
            "width": null
          }
        },
        "ce771d37e9964547942ea16e6e9d6929": {
          "model_module": "@jupyter-widgets/controls",
          "model_name": "DescriptionStyleModel",
          "model_module_version": "1.5.0",
          "state": {
            "_model_module": "@jupyter-widgets/controls",
            "_model_module_version": "1.5.0",
            "_model_name": "DescriptionStyleModel",
            "_view_count": null,
            "_view_module": "@jupyter-widgets/base",
            "_view_module_version": "1.2.0",
            "_view_name": "StyleView",
            "description_width": ""
          }
        },
        "a356a1d586ea41eb8bbb6f910aacb3a8": {
          "model_module": "@jupyter-widgets/controls",
          "model_name": "HBoxModel",
          "model_module_version": "1.5.0",
          "state": {
            "_dom_classes": [],
            "_model_module": "@jupyter-widgets/controls",
            "_model_module_version": "1.5.0",
            "_model_name": "HBoxModel",
            "_view_count": null,
            "_view_module": "@jupyter-widgets/controls",
            "_view_module_version": "1.5.0",
            "_view_name": "HBoxView",
            "box_style": "",
            "children": [
              "IPY_MODEL_d6dcf8d9ce254bbe97e68d8029d51df9",
              "IPY_MODEL_9148faa89984485cae51b6783e6e8002",
              "IPY_MODEL_6d72c3302d484bd2bff0c411c9558a5a"
            ],
            "layout": "IPY_MODEL_6af9f8a7b90841ca9072d3cb85498078"
          }
        },
        "d6dcf8d9ce254bbe97e68d8029d51df9": {
          "model_module": "@jupyter-widgets/controls",
          "model_name": "HTMLModel",
          "model_module_version": "1.5.0",
          "state": {
            "_dom_classes": [],
            "_model_module": "@jupyter-widgets/controls",
            "_model_module_version": "1.5.0",
            "_model_name": "HTMLModel",
            "_view_count": null,
            "_view_module": "@jupyter-widgets/controls",
            "_view_module_version": "1.5.0",
            "_view_name": "HTMLView",
            "description": "",
            "description_tooltip": null,
            "layout": "IPY_MODEL_9bc4186ffb27406db9eeb22f207750dd",
            "placeholder": "​",
            "style": "IPY_MODEL_5c6395957fe041a7893ffda944b42355",
            "value": "Map: 100%"
          }
        },
        "9148faa89984485cae51b6783e6e8002": {
          "model_module": "@jupyter-widgets/controls",
          "model_name": "FloatProgressModel",
          "model_module_version": "1.5.0",
          "state": {
            "_dom_classes": [],
            "_model_module": "@jupyter-widgets/controls",
            "_model_module_version": "1.5.0",
            "_model_name": "FloatProgressModel",
            "_view_count": null,
            "_view_module": "@jupyter-widgets/controls",
            "_view_module_version": "1.5.0",
            "_view_name": "ProgressView",
            "bar_style": "success",
            "description": "",
            "description_tooltip": null,
            "layout": "IPY_MODEL_f1fe48c320f64b869fe54cd68b49fe11",
            "max": 5447916,
            "min": 0,
            "orientation": "horizontal",
            "style": "IPY_MODEL_3e8e91de94544261ab5271e4a5fc3b9c",
            "value": 5447916
          }
        },
        "6d72c3302d484bd2bff0c411c9558a5a": {
          "model_module": "@jupyter-widgets/controls",
          "model_name": "HTMLModel",
          "model_module_version": "1.5.0",
          "state": {
            "_dom_classes": [],
            "_model_module": "@jupyter-widgets/controls",
            "_model_module_version": "1.5.0",
            "_model_name": "HTMLModel",
            "_view_count": null,
            "_view_module": "@jupyter-widgets/controls",
            "_view_module_version": "1.5.0",
            "_view_name": "HTMLView",
            "description": "",
            "description_tooltip": null,
            "layout": "IPY_MODEL_29721e92c6e549ceb10e0d6f7668c641",
            "placeholder": "​",
            "style": "IPY_MODEL_480a1b3f6a334d2a957a8c7a3063032f",
            "value": " 5447916/5447916 [06:17&lt;00:00, 13621.65 examples/s]"
          }
        },
        "6af9f8a7b90841ca9072d3cb85498078": {
          "model_module": "@jupyter-widgets/base",
          "model_name": "LayoutModel",
          "model_module_version": "1.2.0",
          "state": {
            "_model_module": "@jupyter-widgets/base",
            "_model_module_version": "1.2.0",
            "_model_name": "LayoutModel",
            "_view_count": null,
            "_view_module": "@jupyter-widgets/base",
            "_view_module_version": "1.2.0",
            "_view_name": "LayoutView",
            "align_content": null,
            "align_items": null,
            "align_self": null,
            "border": null,
            "bottom": null,
            "display": null,
            "flex": null,
            "flex_flow": null,
            "grid_area": null,
            "grid_auto_columns": null,
            "grid_auto_flow": null,
            "grid_auto_rows": null,
            "grid_column": null,
            "grid_gap": null,
            "grid_row": null,
            "grid_template_areas": null,
            "grid_template_columns": null,
            "grid_template_rows": null,
            "height": null,
            "justify_content": null,
            "justify_items": null,
            "left": null,
            "margin": null,
            "max_height": null,
            "max_width": null,
            "min_height": null,
            "min_width": null,
            "object_fit": null,
            "object_position": null,
            "order": null,
            "overflow": null,
            "overflow_x": null,
            "overflow_y": null,
            "padding": null,
            "right": null,
            "top": null,
            "visibility": null,
            "width": null
          }
        },
        "9bc4186ffb27406db9eeb22f207750dd": {
          "model_module": "@jupyter-widgets/base",
          "model_name": "LayoutModel",
          "model_module_version": "1.2.0",
          "state": {
            "_model_module": "@jupyter-widgets/base",
            "_model_module_version": "1.2.0",
            "_model_name": "LayoutModel",
            "_view_count": null,
            "_view_module": "@jupyter-widgets/base",
            "_view_module_version": "1.2.0",
            "_view_name": "LayoutView",
            "align_content": null,
            "align_items": null,
            "align_self": null,
            "border": null,
            "bottom": null,
            "display": null,
            "flex": null,
            "flex_flow": null,
            "grid_area": null,
            "grid_auto_columns": null,
            "grid_auto_flow": null,
            "grid_auto_rows": null,
            "grid_column": null,
            "grid_gap": null,
            "grid_row": null,
            "grid_template_areas": null,
            "grid_template_columns": null,
            "grid_template_rows": null,
            "height": null,
            "justify_content": null,
            "justify_items": null,
            "left": null,
            "margin": null,
            "max_height": null,
            "max_width": null,
            "min_height": null,
            "min_width": null,
            "object_fit": null,
            "object_position": null,
            "order": null,
            "overflow": null,
            "overflow_x": null,
            "overflow_y": null,
            "padding": null,
            "right": null,
            "top": null,
            "visibility": null,
            "width": null
          }
        },
        "5c6395957fe041a7893ffda944b42355": {
          "model_module": "@jupyter-widgets/controls",
          "model_name": "DescriptionStyleModel",
          "model_module_version": "1.5.0",
          "state": {
            "_model_module": "@jupyter-widgets/controls",
            "_model_module_version": "1.5.0",
            "_model_name": "DescriptionStyleModel",
            "_view_count": null,
            "_view_module": "@jupyter-widgets/base",
            "_view_module_version": "1.2.0",
            "_view_name": "StyleView",
            "description_width": ""
          }
        },
        "f1fe48c320f64b869fe54cd68b49fe11": {
          "model_module": "@jupyter-widgets/base",
          "model_name": "LayoutModel",
          "model_module_version": "1.2.0",
          "state": {
            "_model_module": "@jupyter-widgets/base",
            "_model_module_version": "1.2.0",
            "_model_name": "LayoutModel",
            "_view_count": null,
            "_view_module": "@jupyter-widgets/base",
            "_view_module_version": "1.2.0",
            "_view_name": "LayoutView",
            "align_content": null,
            "align_items": null,
            "align_self": null,
            "border": null,
            "bottom": null,
            "display": null,
            "flex": null,
            "flex_flow": null,
            "grid_area": null,
            "grid_auto_columns": null,
            "grid_auto_flow": null,
            "grid_auto_rows": null,
            "grid_column": null,
            "grid_gap": null,
            "grid_row": null,
            "grid_template_areas": null,
            "grid_template_columns": null,
            "grid_template_rows": null,
            "height": null,
            "justify_content": null,
            "justify_items": null,
            "left": null,
            "margin": null,
            "max_height": null,
            "max_width": null,
            "min_height": null,
            "min_width": null,
            "object_fit": null,
            "object_position": null,
            "order": null,
            "overflow": null,
            "overflow_x": null,
            "overflow_y": null,
            "padding": null,
            "right": null,
            "top": null,
            "visibility": null,
            "width": null
          }
        },
        "3e8e91de94544261ab5271e4a5fc3b9c": {
          "model_module": "@jupyter-widgets/controls",
          "model_name": "ProgressStyleModel",
          "model_module_version": "1.5.0",
          "state": {
            "_model_module": "@jupyter-widgets/controls",
            "_model_module_version": "1.5.0",
            "_model_name": "ProgressStyleModel",
            "_view_count": null,
            "_view_module": "@jupyter-widgets/base",
            "_view_module_version": "1.2.0",
            "_view_name": "StyleView",
            "bar_color": null,
            "description_width": ""
          }
        },
        "29721e92c6e549ceb10e0d6f7668c641": {
          "model_module": "@jupyter-widgets/base",
          "model_name": "LayoutModel",
          "model_module_version": "1.2.0",
          "state": {
            "_model_module": "@jupyter-widgets/base",
            "_model_module_version": "1.2.0",
            "_model_name": "LayoutModel",
            "_view_count": null,
            "_view_module": "@jupyter-widgets/base",
            "_view_module_version": "1.2.0",
            "_view_name": "LayoutView",
            "align_content": null,
            "align_items": null,
            "align_self": null,
            "border": null,
            "bottom": null,
            "display": null,
            "flex": null,
            "flex_flow": null,
            "grid_area": null,
            "grid_auto_columns": null,
            "grid_auto_flow": null,
            "grid_auto_rows": null,
            "grid_column": null,
            "grid_gap": null,
            "grid_row": null,
            "grid_template_areas": null,
            "grid_template_columns": null,
            "grid_template_rows": null,
            "height": null,
            "justify_content": null,
            "justify_items": null,
            "left": null,
            "margin": null,
            "max_height": null,
            "max_width": null,
            "min_height": null,
            "min_width": null,
            "object_fit": null,
            "object_position": null,
            "order": null,
            "overflow": null,
            "overflow_x": null,
            "overflow_y": null,
            "padding": null,
            "right": null,
            "top": null,
            "visibility": null,
            "width": null
          }
        },
        "480a1b3f6a334d2a957a8c7a3063032f": {
          "model_module": "@jupyter-widgets/controls",
          "model_name": "DescriptionStyleModel",
          "model_module_version": "1.5.0",
          "state": {
            "_model_module": "@jupyter-widgets/controls",
            "_model_module_version": "1.5.0",
            "_model_name": "DescriptionStyleModel",
            "_view_count": null,
            "_view_module": "@jupyter-widgets/base",
            "_view_module_version": "1.2.0",
            "_view_name": "StyleView",
            "description_width": ""
          }
        },
        "67ab83c33c374709b28be3307d300c99": {
          "model_module": "@jupyter-widgets/controls",
          "model_name": "HBoxModel",
          "model_module_version": "1.5.0",
          "state": {
            "_dom_classes": [],
            "_model_module": "@jupyter-widgets/controls",
            "_model_module_version": "1.5.0",
            "_model_name": "HBoxModel",
            "_view_count": null,
            "_view_module": "@jupyter-widgets/controls",
            "_view_module_version": "1.5.0",
            "_view_name": "HBoxView",
            "box_style": "",
            "children": [
              "IPY_MODEL_e73293e0ed35465da8dfcc654d815ca3",
              "IPY_MODEL_8a080e95df70494fa4e1f1386cfff683",
              "IPY_MODEL_e00dbe0842304800b7b5935cc4e6ec32"
            ],
            "layout": "IPY_MODEL_ac4611ada0e340be808a0953725518aa"
          }
        },
        "e73293e0ed35465da8dfcc654d815ca3": {
          "model_module": "@jupyter-widgets/controls",
          "model_name": "HTMLModel",
          "model_module_version": "1.5.0",
          "state": {
            "_dom_classes": [],
            "_model_module": "@jupyter-widgets/controls",
            "_model_module_version": "1.5.0",
            "_model_name": "HTMLModel",
            "_view_count": null,
            "_view_module": "@jupyter-widgets/controls",
            "_view_module_version": "1.5.0",
            "_view_name": "HTMLView",
            "description": "",
            "description_tooltip": null,
            "layout": "IPY_MODEL_142f0fbbd40b4759b72a6f4ff9346c61",
            "placeholder": "​",
            "style": "IPY_MODEL_f3fc8835f34c4552b360c7622ec796fa",
            "value": "Saving the dataset (2/2 shards): 100%"
          }
        },
        "8a080e95df70494fa4e1f1386cfff683": {
          "model_module": "@jupyter-widgets/controls",
          "model_name": "FloatProgressModel",
          "model_module_version": "1.5.0",
          "state": {
            "_dom_classes": [],
            "_model_module": "@jupyter-widgets/controls",
            "_model_module_version": "1.5.0",
            "_model_name": "FloatProgressModel",
            "_view_count": null,
            "_view_module": "@jupyter-widgets/controls",
            "_view_module_version": "1.5.0",
            "_view_name": "ProgressView",
            "bar_style": "success",
            "description": "",
            "description_tooltip": null,
            "layout": "IPY_MODEL_97bd3ea5d07d4f64b949c86581c7af07",
            "max": 5447916,
            "min": 0,
            "orientation": "horizontal",
            "style": "IPY_MODEL_ec61387f1c8f471ba98951fd74ff92e9",
            "value": 5447916
          }
        },
        "e00dbe0842304800b7b5935cc4e6ec32": {
          "model_module": "@jupyter-widgets/controls",
          "model_name": "HTMLModel",
          "model_module_version": "1.5.0",
          "state": {
            "_dom_classes": [],
            "_model_module": "@jupyter-widgets/controls",
            "_model_module_version": "1.5.0",
            "_model_name": "HTMLModel",
            "_view_count": null,
            "_view_module": "@jupyter-widgets/controls",
            "_view_module_version": "1.5.0",
            "_view_name": "HTMLView",
            "description": "",
            "description_tooltip": null,
            "layout": "IPY_MODEL_e0934f9ace1c4287b338224010f1f342",
            "placeholder": "​",
            "style": "IPY_MODEL_f83747ab40cc408aa9437a6065f10ec2",
            "value": " 5447916/5447916 [00:09&lt;00:00, 654065.38 examples/s]"
          }
        },
        "ac4611ada0e340be808a0953725518aa": {
          "model_module": "@jupyter-widgets/base",
          "model_name": "LayoutModel",
          "model_module_version": "1.2.0",
          "state": {
            "_model_module": "@jupyter-widgets/base",
            "_model_module_version": "1.2.0",
            "_model_name": "LayoutModel",
            "_view_count": null,
            "_view_module": "@jupyter-widgets/base",
            "_view_module_version": "1.2.0",
            "_view_name": "LayoutView",
            "align_content": null,
            "align_items": null,
            "align_self": null,
            "border": null,
            "bottom": null,
            "display": null,
            "flex": null,
            "flex_flow": null,
            "grid_area": null,
            "grid_auto_columns": null,
            "grid_auto_flow": null,
            "grid_auto_rows": null,
            "grid_column": null,
            "grid_gap": null,
            "grid_row": null,
            "grid_template_areas": null,
            "grid_template_columns": null,
            "grid_template_rows": null,
            "height": null,
            "justify_content": null,
            "justify_items": null,
            "left": null,
            "margin": null,
            "max_height": null,
            "max_width": null,
            "min_height": null,
            "min_width": null,
            "object_fit": null,
            "object_position": null,
            "order": null,
            "overflow": null,
            "overflow_x": null,
            "overflow_y": null,
            "padding": null,
            "right": null,
            "top": null,
            "visibility": null,
            "width": null
          }
        },
        "142f0fbbd40b4759b72a6f4ff9346c61": {
          "model_module": "@jupyter-widgets/base",
          "model_name": "LayoutModel",
          "model_module_version": "1.2.0",
          "state": {
            "_model_module": "@jupyter-widgets/base",
            "_model_module_version": "1.2.0",
            "_model_name": "LayoutModel",
            "_view_count": null,
            "_view_module": "@jupyter-widgets/base",
            "_view_module_version": "1.2.0",
            "_view_name": "LayoutView",
            "align_content": null,
            "align_items": null,
            "align_self": null,
            "border": null,
            "bottom": null,
            "display": null,
            "flex": null,
            "flex_flow": null,
            "grid_area": null,
            "grid_auto_columns": null,
            "grid_auto_flow": null,
            "grid_auto_rows": null,
            "grid_column": null,
            "grid_gap": null,
            "grid_row": null,
            "grid_template_areas": null,
            "grid_template_columns": null,
            "grid_template_rows": null,
            "height": null,
            "justify_content": null,
            "justify_items": null,
            "left": null,
            "margin": null,
            "max_height": null,
            "max_width": null,
            "min_height": null,
            "min_width": null,
            "object_fit": null,
            "object_position": null,
            "order": null,
            "overflow": null,
            "overflow_x": null,
            "overflow_y": null,
            "padding": null,
            "right": null,
            "top": null,
            "visibility": null,
            "width": null
          }
        },
        "f3fc8835f34c4552b360c7622ec796fa": {
          "model_module": "@jupyter-widgets/controls",
          "model_name": "DescriptionStyleModel",
          "model_module_version": "1.5.0",
          "state": {
            "_model_module": "@jupyter-widgets/controls",
            "_model_module_version": "1.5.0",
            "_model_name": "DescriptionStyleModel",
            "_view_count": null,
            "_view_module": "@jupyter-widgets/base",
            "_view_module_version": "1.2.0",
            "_view_name": "StyleView",
            "description_width": ""
          }
        },
        "97bd3ea5d07d4f64b949c86581c7af07": {
          "model_module": "@jupyter-widgets/base",
          "model_name": "LayoutModel",
          "model_module_version": "1.2.0",
          "state": {
            "_model_module": "@jupyter-widgets/base",
            "_model_module_version": "1.2.0",
            "_model_name": "LayoutModel",
            "_view_count": null,
            "_view_module": "@jupyter-widgets/base",
            "_view_module_version": "1.2.0",
            "_view_name": "LayoutView",
            "align_content": null,
            "align_items": null,
            "align_self": null,
            "border": null,
            "bottom": null,
            "display": null,
            "flex": null,
            "flex_flow": null,
            "grid_area": null,
            "grid_auto_columns": null,
            "grid_auto_flow": null,
            "grid_auto_rows": null,
            "grid_column": null,
            "grid_gap": null,
            "grid_row": null,
            "grid_template_areas": null,
            "grid_template_columns": null,
            "grid_template_rows": null,
            "height": null,
            "justify_content": null,
            "justify_items": null,
            "left": null,
            "margin": null,
            "max_height": null,
            "max_width": null,
            "min_height": null,
            "min_width": null,
            "object_fit": null,
            "object_position": null,
            "order": null,
            "overflow": null,
            "overflow_x": null,
            "overflow_y": null,
            "padding": null,
            "right": null,
            "top": null,
            "visibility": null,
            "width": null
          }
        },
        "ec61387f1c8f471ba98951fd74ff92e9": {
          "model_module": "@jupyter-widgets/controls",
          "model_name": "ProgressStyleModel",
          "model_module_version": "1.5.0",
          "state": {
            "_model_module": "@jupyter-widgets/controls",
            "_model_module_version": "1.5.0",
            "_model_name": "ProgressStyleModel",
            "_view_count": null,
            "_view_module": "@jupyter-widgets/base",
            "_view_module_version": "1.2.0",
            "_view_name": "StyleView",
            "bar_color": null,
            "description_width": ""
          }
        },
        "e0934f9ace1c4287b338224010f1f342": {
          "model_module": "@jupyter-widgets/base",
          "model_name": "LayoutModel",
          "model_module_version": "1.2.0",
          "state": {
            "_model_module": "@jupyter-widgets/base",
            "_model_module_version": "1.2.0",
            "_model_name": "LayoutModel",
            "_view_count": null,
            "_view_module": "@jupyter-widgets/base",
            "_view_module_version": "1.2.0",
            "_view_name": "LayoutView",
            "align_content": null,
            "align_items": null,
            "align_self": null,
            "border": null,
            "bottom": null,
            "display": null,
            "flex": null,
            "flex_flow": null,
            "grid_area": null,
            "grid_auto_columns": null,
            "grid_auto_flow": null,
            "grid_auto_rows": null,
            "grid_column": null,
            "grid_gap": null,
            "grid_row": null,
            "grid_template_areas": null,
            "grid_template_columns": null,
            "grid_template_rows": null,
            "height": null,
            "justify_content": null,
            "justify_items": null,
            "left": null,
            "margin": null,
            "max_height": null,
            "max_width": null,
            "min_height": null,
            "min_width": null,
            "object_fit": null,
            "object_position": null,
            "order": null,
            "overflow": null,
            "overflow_x": null,
            "overflow_y": null,
            "padding": null,
            "right": null,
            "top": null,
            "visibility": null,
            "width": null
          }
        },
        "f83747ab40cc408aa9437a6065f10ec2": {
          "model_module": "@jupyter-widgets/controls",
          "model_name": "DescriptionStyleModel",
          "model_module_version": "1.5.0",
          "state": {
            "_model_module": "@jupyter-widgets/controls",
            "_model_module_version": "1.5.0",
            "_model_name": "DescriptionStyleModel",
            "_view_count": null,
            "_view_module": "@jupyter-widgets/base",
            "_view_module_version": "1.2.0",
            "_view_name": "StyleView",
            "description_width": ""
          }
        }
      }
    }
  },
  "nbformat": 4,
  "nbformat_minor": 0
}